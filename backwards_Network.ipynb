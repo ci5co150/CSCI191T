{
  "nbformat": 4,
  "nbformat_minor": 0,
  "metadata": {
    "colab": {
      "name": "backwards_Network.ipynb",
      "provenance": [],
      "authorship_tag": "ABX9TyPUsTP3SPjKYfIHjSlp/HAT",
      "include_colab_link": true
    },
    "kernelspec": {
      "name": "python3",
      "display_name": "Python 3"
    },
    "language_info": {
      "name": "python"
    }
  },
  "cells": [
    {
      "cell_type": "markdown",
      "metadata": {
        "id": "view-in-github",
        "colab_type": "text"
      },
      "source": [
        "<a href=\"https://colab.research.google.com/github/ci5co150/CSCI191T/blob/main/backwards_Network.ipynb\" target=\"_parent\"><img src=\"https://colab.research.google.com/assets/colab-badge.svg\" alt=\"Open In Colab\"/></a>"
      ]
    },
    {
      "cell_type": "code",
      "metadata": {
        "id": "ZO-Fa4yHWmVT"
      },
      "source": [
        "import math\n",
        "import random\n",
        "import numpy as np"
      ],
      "execution_count": 404,
      "outputs": []
    },
    {
      "cell_type": "code",
      "metadata": {
        "id": "cbAK-jy4Wyck"
      },
      "source": [
        "#Function to add list of tuples\n",
        "F = lambda m, x: m[0] + m[1]*x[0] + m[2]*x[1]\n",
        "#The sigmoid function\n",
        "G = lambda y: 1/(1+math.exp(-y))\n",
        "#Fucntion to choose between 1 or 0\n",
        "classify = lambda y: 1 if y>0.5 else 0\n",
        "\n",
        "import sys\n",
        "def printf(format, *args):\n",
        "    sys.stdout.write(format % args)"
      ],
      "execution_count": 405,
      "outputs": []
    },
    {
      "cell_type": "code",
      "metadata": {
        "id": "Ub35xG6JXVcb",
        "colab": {
          "base_uri": "https://localhost:8080/"
        },
        "outputId": "dadf72b9-aa77-45f7-f138-f204ea9305f2"
      },
      "source": [
        "#Initiate the weights and V to random\n",
        "n = 0.1 #lerning rate\n",
        "data = [ ( (0,0), 0 ), ( (0,1), 1 ), ( (1,0), 1), ( (1,1), 0 ) ]\n",
        "\n",
        "\n",
        "X = [x for (x,y) in data]\n",
        "R1 = [y for (x,y) in data]\n",
        "\n",
        "W1 = [random.uniform(-0.9,0.9) for i in range(3)]\n",
        "W2 = [random.uniform(-0.9,0.9) for i in range(3)]\n",
        "\n",
        "V1 = [random.uniform(-0.9,0.9) for i in range(3)]\n",
        "\n",
        "print(\"W1: \",W1)\n",
        "print(\"W2: \",W2)\n",
        "print(\"V1: \",V1)"
      ],
      "execution_count": 406,
      "outputs": [
        {
          "output_type": "stream",
          "name": "stdout",
          "text": [
            "W1:  [-0.18679305843360705, 0.6674720904838266, -0.5013977711419138]\n",
            "W2:  [0.00750956767055555, 0.8399952767663758, 0.18906721313425556]\n",
            "V1:  [-0.17924680848723773, -0.09844405150421853, -0.5931567380238587]\n"
          ]
        }
      ]
    },
    {
      "cell_type": "code",
      "metadata": {
        "colab": {
          "base_uri": "https://localhost:8080/"
        },
        "id": "g6GDrtLfZYzf",
        "outputId": "95bb84c2-ab6f-46a5-8d13-e5dc47daff4e"
      },
      "source": [
        "#iterate the loops\n",
        "\n",
        "for i in range(10001):\n",
        "  random.shuffle(data) #everytime the data get shuffle\n",
        "\n",
        "  for (X,R) in (data):\n",
        "    Z1 = G(F(W1,X))\n",
        "    Z2 = G(F(W2,X))\n",
        "    \n",
        "   \n",
        "    Y1 = G(F(V1, (Z1,Z2)))\n",
        "    \n",
        "    ΔV1 = [n * (R - Y1), n * (R - Y1) * Z1, n * (R - Y1) * Z2]\n",
        "   \n",
        "    ΔW1 = [n*(R - Y1)*V1[1]*Z1*(1 - Z1), n*(R - Y1)*V1[1]*Z1*(1 - Z1) * X[0], n*(R - Y1)*V1[1]*Z1*(1 - Z1)*X[1]]\n",
        "    \n",
        "    ΔW2 = [n*(R - Y1)*V1[2]*Z2*(1 - Z2), n*(R - Y1)*V1[2]*Z2*(1 - Z2) * X[0], n*(R - Y1)*V1[2]*Z2*(1 - Z2)*X[1]]\n",
        "    \n",
        "\n",
        "    W1 = [Δw1 + w1 for Δw1, w1 in zip(ΔW1, W1)]\n",
        "    \n",
        "    W2 = [Δw2 + w2 for Δw2, w2 in zip(ΔW2, W2)]\n",
        "    \n",
        "    V1 = [Δv1 + v1 for Δv1, v1 in zip(ΔV1, V1)]\n",
        "\n",
        "  #check the square error\n",
        "  if ( (i % 1000) == 0):\n",
        "    Z1 = [G(F(W1,x)) for (x,y) in data]\n",
        "    Z2 = [G(F(W2,x)) for (x,y) in data]\n",
        "    Y1 = [G(F(V1,(z1,z2))) for z1,z2 in zip(Z1,Z2)]\n",
        "    #Apply classify to find a prediction of the network\n",
        "    Y_Prediction = [classify(y1) for y1 in Y1]\n",
        "    print(\"YP: \", Y_Prediction)\n",
        "    print(\"R: \", R1)\n",
        "    squaredError = sum([pow(r - y, 2) for r, y in zip(R1, Y_Prediction)])\n",
        "    print(\"squaredError at i=\", i, \"is \", squaredError )\n",
        "   \n",
        " "
      ],
      "execution_count": 407,
      "outputs": [
        {
          "output_type": "stream",
          "name": "stdout",
          "text": [
            "YP:  [0, 0, 0, 0]\n",
            "R:  [0, 1, 1, 0]\n",
            "squaredError at i= 0 is  2\n",
            "YP:  [0, 0, 0, 1]\n",
            "R:  [0, 1, 1, 0]\n",
            "squaredError at i= 1000 is  3\n",
            "YP:  [1, 0, 0, 1]\n",
            "R:  [0, 1, 1, 0]\n",
            "squaredError at i= 2000 is  4\n",
            "YP:  [0, 1, 0, 1]\n",
            "R:  [0, 1, 1, 0]\n",
            "squaredError at i= 3000 is  2\n",
            "YP:  [1, 1, 0, 0]\n",
            "R:  [0, 1, 1, 0]\n",
            "squaredError at i= 4000 is  2\n",
            "YP:  [0, 1, 0, 1]\n",
            "R:  [0, 1, 1, 0]\n",
            "squaredError at i= 5000 is  2\n",
            "YP:  [1, 0, 1, 0]\n",
            "R:  [0, 1, 1, 0]\n",
            "squaredError at i= 6000 is  2\n",
            "YP:  [0, 1, 1, 0]\n",
            "R:  [0, 1, 1, 0]\n",
            "squaredError at i= 7000 is  0\n",
            "YP:  [0, 1, 1, 0]\n",
            "R:  [0, 1, 1, 0]\n",
            "squaredError at i= 8000 is  0\n",
            "YP:  [0, 1, 1, 0]\n",
            "R:  [0, 1, 1, 0]\n",
            "squaredError at i= 9000 is  0\n",
            "YP:  [0, 1, 1, 0]\n",
            "R:  [0, 1, 1, 0]\n",
            "squaredError at i= 10000 is  0\n"
          ]
        }
      ]
    },
    {
      "cell_type": "code",
      "metadata": {
        "colab": {
          "base_uri": "https://localhost:8080/"
        },
        "id": "9T7KNyUxaVg5",
        "outputId": "48895cff-a90c-4da9-907a-931c070789b0"
      },
      "source": [
        "#Finds the Z nodes for the 2nd layer of the network\n",
        "Z1 = [G(F(W1,x)) for (x,y) in data]\n",
        "Z2 = [G(F(W2,x)) for (x,y) in data]\n",
        "\n",
        "#Find the root node of the network\n",
        "Y1 = [G(F(V1,(z1,z2))) for z1,z2 in zip(Z1,Z2)]\n",
        "#Apply classify to find a prediction of the network\n",
        "Y_Prediction = [classify(y1) for y1 in Y1]\n",
        "\n",
        "#Print Data with the network prediction\n",
        "print(\"Data with its require & predition ((X1,X2), R, Y_Pred): \" , list(zip(data,Y_Prediction)))"
      ],
      "execution_count": 408,
      "outputs": [
        {
          "output_type": "stream",
          "name": "stdout",
          "text": [
            "Data with its require & predition ((X1,X2), R, Y_Pred):  [(((1, 1), 0), 0), (((0, 1), 1), 1), (((1, 0), 1), 1), (((0, 0), 0), 0)]\n"
          ]
        }
      ]
    }
  ]
}