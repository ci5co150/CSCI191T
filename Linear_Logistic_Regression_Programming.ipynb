{
  "nbformat": 4,
  "nbformat_minor": 0,
  "metadata": {
    "colab": {
      "name": "Linear/Logistic Regression Programming",
      "provenance": [],
      "collapsed_sections": [],
      "authorship_tag": "ABX9TyM0j+ZYHerh480euHsT+QVp",
      "include_colab_link": true
    },
    "kernelspec": {
      "name": "python3",
      "display_name": "Python 3"
    },
    "language_info": {
      "name": "python"
    }
  },
  "cells": [
    {
      "cell_type": "markdown",
      "metadata": {
        "id": "view-in-github",
        "colab_type": "text"
      },
      "source": [
        "<a href=\"https://colab.research.google.com/github/ci5co150/CSCI191T/blob/main/Linear_Logistic_Regression_Programming.ipynb\" target=\"_parent\"><img src=\"https://colab.research.google.com/assets/colab-badge.svg\" alt=\"Open In Colab\"/></a>"
      ]
    },
    {
      "cell_type": "markdown",
      "metadata": {
        "id": "ZDAYU80z9vwR"
      },
      "source": [
        "By Francisco Gomez\n",
        "\n",
        "Csci191T Fall 2021"
      ]
    },
    {
      "cell_type": "code",
      "metadata": {
        "id": "prXxsDmngAOl"
      },
      "source": [
        "### Includes\n",
        "%matplotlib inline\n",
        "import csv\n",
        "import matplotlib.pyplot as plt\n",
        "import numpy as np\n",
        "import math\n",
        "import pandas as pd"
      ],
      "execution_count": null,
      "outputs": []
    },
    {
      "cell_type": "markdown",
      "metadata": {
        "id": "FEND2_im93PG"
      },
      "source": [
        "Import the csv data from github"
      ]
    },
    {
      "cell_type": "code",
      "metadata": {
        "id": "D76rGN0ufGfy"
      },
      "source": [
        "import pandas as pd\n",
        "url = 'https://raw.githubusercontent.com/ci5co150/CSCI191T/main/iris.data.csv'\n",
        "df1 = pd.read_csv(url)\n",
        "\n",
        "data = df1.to_numpy().tolist()\n"
      ],
      "execution_count": null,
      "outputs": []
    },
    {
      "cell_type": "markdown",
      "metadata": {
        "id": "E_wnrVEq99ED"
      },
      "source": [
        "Reformat the data from the csv file"
      ]
    },
    {
      "cell_type": "code",
      "metadata": {
        "id": "dgiDl-Jyk9Df"
      },
      "source": [
        "l = len(data)\n",
        "# declare data X and data for Y (the results)\n",
        "X = []\n",
        "dataY = []\n",
        "ones = [1]*len(data)\n",
        "# Populate data X and dataY\n",
        "for i in range(l):\n",
        "  X.append(data[i][0:4])\n",
        "  if (Y[i] == 'Iris-setosa'):\n",
        "     dataY.append(0)\n",
        "  elif (Y[i] == 'Iris-versicolor'):\n",
        "    dataY.append(1)\n",
        "  else:\n",
        "    dataY.append(2) #Iris-virginica\n",
        "\n",
        "dataX = [1]\n",
        "\n",
        "for i in range(l):\n",
        "  if (i == 0 ):\n",
        "    dataX[0] = [ones[0]] + X[0]\n",
        "  else:\n",
        "    dataX.append([ones[i]] + X[i])\n",
        "\n"
      ],
      "execution_count": null,
      "outputs": []
    },
    {
      "cell_type": "markdown",
      "metadata": {
        "id": "Zbz23jNu8r34"
      },
      "source": [
        "Setting up train and test data"
      ]
    },
    {
      "cell_type": "code",
      "metadata": {
        "id": "Dg_1V4suoOmh"
      },
      "source": [
        "from sklearn.model_selection import train_test_split\n",
        "X_train, X_test, Y_train, Y_test = train_test_split(dataX, dataY, test_size=0.33, random_state=45)"
      ],
      "execution_count": null,
      "outputs": []
    },
    {
      "cell_type": "markdown",
      "metadata": {
        "id": "hAqXJlNE81PP"
      },
      "source": [
        "Create expected result data for 0 vs [1,2]"
      ]
    },
    {
      "cell_type": "code",
      "metadata": {
        "id": "KNGGpw7O1tFZ"
      },
      "source": [
        "# expected results for class 0 (Iris-setosa). Turn 0s to 1s (true) and the rest to 0's (false)\n",
        "Y0 =  [y+1 if y==0 else y-y for y in dataY]\n",
        "Y0_train = [y+1 if y==0 else y-y for y in Y_train]\n",
        "Y0_test = [y+1 if y==0 else y-y for y in Y_test]"
      ],
      "execution_count": null,
      "outputs": []
    },
    {
      "cell_type": "markdown",
      "metadata": {
        "id": "TMSHdXCP85Fg"
      },
      "source": [
        "Create expected result data for 1 vs [1,2]"
      ]
    },
    {
      "cell_type": "code",
      "metadata": {
        "id": "TvHxjava1wgQ"
      },
      "source": [
        "# expected results for class 1 (Iris-versicolor). Keep 1s (true) and the rest to 0s (false)\n",
        "Y1_train = [y if y==1 else y-y for y in Y_train]\n",
        "Y1_test = [y if y==1 else y-y for y in Y_test]"
      ],
      "execution_count": null,
      "outputs": []
    },
    {
      "cell_type": "markdown",
      "metadata": {
        "id": "cd6CfVeT-X19"
      },
      "source": [
        "Create expected result data fordata for 2 vs [0,1]"
      ]
    },
    {
      "cell_type": "code",
      "metadata": {
        "id": "5OX1130g2MSk"
      },
      "source": [
        "# expected results for class 2 (Iris-virginica). Turn 2s to 1s (true) and the rest to 0s (false)\n",
        "Y2_train = [y-1 if y==2 else y-y for y in Y_train]\n",
        "Y2_test = [y-1 if y==2 else y-y for y in Y_test]"
      ],
      "execution_count": null,
      "outputs": []
    },
    {
      "cell_type": "markdown",
      "metadata": {
        "id": "LoCyTW8J9Y7u"
      },
      "source": [
        "Create the tree models"
      ]
    },
    {
      "cell_type": "code",
      "metadata": {
        "id": "ph1ONFBD2PeK"
      },
      "source": [
        "model0 = [0,0,0,0,0] # for class 0 (Iris-setosa)\n",
        "model1 = [0,0,0,0,0] # for class 1 (Iris-versicolor)\n",
        "model2 = [0,0,0,0,0] # for class 2 (Iris-virginica)"
      ],
      "execution_count": null,
      "outputs": []
    },
    {
      "cell_type": "markdown",
      "metadata": {
        "id": "fIyVlW9j9ePO"
      },
      "source": [
        "Simple Logistical Regression function"
      ]
    },
    {
      "cell_type": "code",
      "metadata": {
        "colab": {
          "base_uri": "https://localhost:8080/"
        },
        "id": "WtHifN_A2pAY",
        "outputId": "d65feafc-b792-42eb-b559-8f3600c2b603"
      },
      "source": [
        "def logReg(data,yHat,model):\n",
        "  yprime =[]\n",
        "  alpha = 0.01\n",
        "  F = lambda W, X: sum([w*x for w,x in zip(W,X)])\n",
        "  sigmoid = lambda y: 1/(1+math.exp(-y))\n",
        "  classify = lambda y: 1 if y>0.5 else 0\n",
        "\n",
        "  w = model\n",
        "\n",
        "  X = [(d[0], d[1], d[2]) for d in data]\n",
        "\n",
        "  Y = yHat\n",
        "  for _ in range(500):\n",
        "    yPredicted = [sigmoid(F(w, x)) for x in X]\n",
        "    deltaX0 = sum( [((r-y)*x[0]) for r,y,x in zip(Y, yPredicted, X)] )\n",
        "    deltaX1 = sum( [((r-y)*x[1]) for r,y,x in zip(Y, yPredicted, X)] )\n",
        "    deltaX2 = sum( [((r-y)*x[2]) for r,y,x in zip(Y, yPredicted, X)] )\n",
        "    \n",
        "    w = [w[0]+alpha*deltaX0, w[1]+alpha*deltaX1, w[2]+alpha*deltaX2]\n",
        "\n",
        "  return w\n",
        "\n",
        "print(\"Model for Y0 | Iris-setosa \")\n",
        "model0 = logReg(X_train,Y0_train,model0)\n",
        "print(model0)\n",
        "\n",
        "print(\"\\nModel for Y1 | Iris-versicolor \")\n",
        "model1 = logReg(X_train,Y1_train,model1)\n",
        "print(model1)\n",
        "\n",
        "print(\"\\nModel for Y2 | Iris-virginica \")\n",
        "model2 = logReg(X_train,Y2_train,model2)\n",
        "print(model2)"
      ],
      "execution_count": null,
      "outputs": [
        {
          "output_type": "stream",
          "name": "stdout",
          "text": [
            "Model for Y0 | Iris-setosa \n",
            "[1.334372957355326, -5.301260176457207, 8.654743925611163]\n",
            "\n",
            "Model for Y1 | Iris-versicolor \n",
            "[7.604009731088582, 2.7970837299549673, -7.069031904619904]\n",
            "\n",
            "Model for Y2 | Iris-virginica \n",
            "[-10.213570901203493, 6.91134514726345, -9.144031678531173]\n"
          ]
        }
      ]
    },
    {
      "cell_type": "markdown",
      "metadata": {
        "id": "6MPWmSVA9jn4"
      },
      "source": [
        "Find the best model from the 3 for each test sample"
      ]
    },
    {
      "cell_type": "code",
      "metadata": {
        "colab": {
          "base_uri": "https://localhost:8080/"
        },
        "id": "WyyCBzI623RN",
        "outputId": "cda83844-65c1-4b6a-b93a-c219a15c5d63"
      },
      "source": [
        "F = lambda W, X: sum([w*x for w,x in zip(W,X)])\n",
        "sigmoid = lambda y: 1/(1+math.exp(-y))\n",
        "classify = lambda y: 1 if y>0.5 else 0\n",
        "\n",
        "X_test_prime = X_test\n",
        "Y2_test_prime = Y2_test\n",
        "\n",
        "yPredicted_with_model0 = ([round(sigmoid(F(model0, x)),3) for x in X_test],0)\n",
        "\n",
        "\n",
        "yPredicted_with_model1 = ([round(sigmoid(F(model1, x)),3) for x in X_test],1)\n",
        "\n",
        "\n",
        "yPredicted_with_model2 = ([round(sigmoid(F(model2, x)),3) for x in X_test],2)\n",
        "\n",
        "#check for the \"best\" model to pick from the 3\n",
        "predicted_test =[]\n",
        "u = len(Y_test)\n",
        "for i in range(u):\n",
        "  if (yPredicted_with_model0[0][i] >= yPredicted_with_model1[0][i]  and \n",
        "      yPredicted_with_model0[0][i]  >= yPredicted_with_model2[0][i] ):\n",
        "      predicted_test.append(yPredicted_with_model0[1])\n",
        "\n",
        "  elif (yPredicted_with_model1[0][i]  >= yPredicted_with_model0[0][i]  and\n",
        "      yPredicted_with_model1[0][i]  >= yPredicted_with_model2[0][i] ):\n",
        "      predicted_test.append(yPredicted_with_model1[1])\n",
        "\n",
        "  else:\n",
        "      predicted_test.append(yPredicted_with_model2[1])\n",
        "\n",
        "print(\"\\n0 = Iris-setosa, 1 = Iris-versicolor,  2 = Iris-virginica\" )\n",
        "print(\"\\nvaribles, Y Test , Y Predicted Test\")\n",
        "incorrect = 0\n",
        "for i in range(u):\n",
        "  if(Y_test[i] != predicted_test[i]):\n",
        "    incorrect+=1\n",
        "  print(X_test[i], Y_test[i], predicted_test[i] )\n",
        "print(\"Errors: \", incorrect, \"of \", u, \"test samples.\")"
      ],
      "execution_count": null,
      "outputs": [
        {
          "output_type": "stream",
          "name": "stdout",
          "text": [
            "\n",
            "0 = Iris-setosa, 1 = Iris-versicolor,  2 = Iris-virginica\n",
            "\n",
            "varibles, Y Test , Y Predicted Test\n",
            "[1, 4.9, 3.0, 1.4, 0.2] 0 0\n",
            "[1, 5.1, 3.8, 1.9, 0.4] 0 0\n",
            "[1, 7.2, 3.0, 5.8, 1.6] 2 2\n",
            "[1, 5.0, 3.6, 1.4, 0.2] 0 0\n",
            "[1, 5.0, 3.2, 1.2, 0.2] 0 0\n",
            "[1, 4.8, 3.0, 1.4, 0.3] 0 0\n",
            "[1, 5.1, 3.4, 1.5, 0.2] 0 0\n",
            "[1, 5.8, 2.8, 5.1, 2.4] 2 2\n",
            "[1, 6.3, 2.7, 4.9, 1.8] 2 2\n",
            "[1, 6.7, 3.1, 5.6, 2.4] 2 2\n",
            "[1, 4.7, 3.2, 1.6, 0.2] 0 0\n",
            "[1, 7.7, 3.0, 6.1, 2.3] 2 1\n",
            "[1, 5.7, 2.5, 5.0, 2.0] 2 2\n",
            "[1, 6.3, 2.9, 5.6, 1.8] 2 2\n",
            "[1, 6.3, 2.8, 5.1, 1.5] 2 2\n",
            "[1, 5.5, 3.5, 1.3, 0.2] 0 0\n",
            "[1, 6.7, 3.0, 5.2, 2.3] 2 2\n",
            "[1, 5.8, 2.7, 5.1, 1.9] 2 2\n",
            "[1, 4.5, 2.3, 1.3, 0.3] 0 1\n",
            "[1, 5.6, 3.0, 4.1, 1.3] 1 1\n",
            "[1, 6.0, 3.4, 4.5, 1.6] 1 1\n",
            "[1, 6.7, 3.1, 4.7, 1.5] 1 2\n",
            "[1, 6.4, 3.2, 5.3, 2.3] 2 2\n",
            "[1, 6.9, 3.1, 4.9, 1.5] 1 2\n",
            "[1, 5.4, 3.9, 1.7, 0.4] 0 0\n",
            "[1, 6.8, 3.0, 5.5, 2.1] 2 2\n",
            "[1, 5.8, 2.6, 4.0, 1.2] 1 2\n",
            "[1, 6.7, 3.1, 4.4, 1.4] 1 2\n",
            "[1, 4.8, 3.4, 1.6, 0.2] 0 0\n",
            "[1, 6.1, 3.0, 4.6, 1.4] 1 2\n",
            "[1, 6.7, 3.0, 5.0, 1.7] 1 2\n",
            "[1, 6.5, 3.0, 5.8, 2.2] 2 2\n",
            "[1, 6.0, 3.0, 4.8, 1.8] 2 2\n",
            "[1, 5.8, 2.7, 5.1, 1.9] 2 2\n",
            "[1, 5.0, 3.4, 1.6, 0.4] 0 0\n",
            "[1, 6.4, 3.1, 5.5, 1.8] 2 2\n",
            "[1, 5.8, 4.0, 1.2, 0.2] 0 0\n",
            "[1, 5.2, 3.5, 1.5, 0.2] 0 0\n",
            "[1, 6.6, 3.0, 4.4, 1.4] 1 2\n",
            "[1, 5.4, 3.4, 1.5, 0.4] 0 0\n",
            "[1, 4.9, 3.1, 1.5, 0.1] 0 0\n",
            "[1, 6.0, 2.7, 5.1, 1.6] 1 2\n",
            "[1, 4.7, 3.2, 1.3, 0.2] 0 0\n",
            "[1, 5.5, 2.3, 4.0, 1.3] 1 1\n",
            "[1, 5.0, 2.3, 3.3, 1.0] 1 1\n",
            "[1, 4.6, 3.6, 1.0, 0.2] 0 0\n",
            "[1, 7.9, 3.8, 6.4, 2.0] 2 2\n",
            "[1, 6.1, 2.9, 4.7, 1.4] 1 2\n",
            "[1, 6.7, 2.5, 5.8, 1.8] 2 1\n",
            "[1, 4.4, 3.0, 1.3, 0.2] 0 0\n",
            "Errors:  12 of  50 test samples.\n"
          ]
        }
      ]
    }
  ]
}