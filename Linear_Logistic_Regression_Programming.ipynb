{
  "nbformat": 4,
  "nbformat_minor": 0,
  "metadata": {
    "colab": {
      "name": "Linear/Logistic Regression Programming",
      "provenance": [],
      "collapsed_sections": [],
      "include_colab_link": true
    },
    "kernelspec": {
      "name": "python3",
      "display_name": "Python 3"
    },
    "language_info": {
      "name": "python"
    }
  },
  "cells": [
    {
      "cell_type": "markdown",
      "metadata": {
        "id": "view-in-github",
        "colab_type": "text"
      },
      "source": [
        "<a href=\"https://colab.research.google.com/github/ci5co150/CSCI191T/blob/main/Linear_Logistic_Regression_Programming.ipynb\" target=\"_parent\"><img src=\"https://colab.research.google.com/assets/colab-badge.svg\" alt=\"Open In Colab\"/></a>"
      ]
    },
    {
      "cell_type": "markdown",
      "metadata": {
        "id": "ZDAYU80z9vwR"
      },
      "source": [
        "By Francisco Gomez\n",
        "\n",
        "Csci191T Fall 2021"
      ]
    },
    {
      "cell_type": "code",
      "metadata": {
        "id": "prXxsDmngAOl"
      },
      "source": [
        "### Includes\n",
        "%matplotlib inline\n",
        "import csv\n",
        "import matplotlib.pyplot as plt\n",
        "import numpy as np\n",
        "import math\n",
        "import pandas as pd"
      ],
      "execution_count": 10,
      "outputs": []
    },
    {
      "cell_type": "markdown",
      "metadata": {
        "id": "FEND2_im93PG"
      },
      "source": [
        "Import the csv data from github"
      ]
    },
    {
      "cell_type": "code",
      "metadata": {
        "id": "D76rGN0ufGfy"
      },
      "source": [
        "import pandas as pd\n",
        "url = 'https://raw.githubusercontent.com/ci5co150/CSCI191T/main/iris.data.csv'\n",
        "df1 = pd.read_csv(url)\n",
        "\n",
        "data = df1.to_numpy().tolist()\n"
      ],
      "execution_count": 11,
      "outputs": []
    },
    {
      "cell_type": "markdown",
      "metadata": {
        "id": "E_wnrVEq99ED"
      },
      "source": [
        "Reformat the data from the csv file"
      ]
    },
    {
      "cell_type": "code",
      "metadata": {
        "id": "dgiDl-Jyk9Df"
      },
      "source": [
        "l = len(data)\n",
        "# declare data X and data for Y (the results)\n",
        "X = []\n",
        "dataY = []\n",
        "ones = [1]*len(data)\n",
        "# Populate data X and dataY\n",
        "for i in range(l):\n",
        "  X.append(data[i][0:4])\n",
        "  if (data[i][4] == 'Iris-setosa'):\n",
        "     dataY.append(0)\n",
        "  elif (data[i][4] == 'Iris-versicolor'):\n",
        "    dataY.append(1)\n",
        "  else:\n",
        "    dataY.append(2) #Iris-virginica\n",
        "\n",
        "dataX = [1]\n",
        "\n",
        "for i in range(l):\n",
        "  if (i == 0 ):\n",
        "    dataX[0] = [ones[0]] + X[0]\n",
        "  else:\n",
        "    dataX.append([ones[i]] + X[i])\n"
      ],
      "execution_count": 12,
      "outputs": []
    },
    {
      "cell_type": "markdown",
      "metadata": {
        "id": "Zbz23jNu8r34"
      },
      "source": [
        "Setting up train and test data"
      ]
    },
    {
      "cell_type": "code",
      "metadata": {
        "id": "Dg_1V4suoOmh"
      },
      "source": [
        "from sklearn.model_selection import train_test_split\n",
        "X_train, X_test, Y_train, Y_test = train_test_split(dataX, dataY, test_size=0.33, random_state=45)"
      ],
      "execution_count": 13,
      "outputs": []
    },
    {
      "cell_type": "markdown",
      "metadata": {
        "id": "hAqXJlNE81PP"
      },
      "source": [
        "Create expected result data for 0 vs [1,2]"
      ]
    },
    {
      "cell_type": "code",
      "metadata": {
        "id": "KNGGpw7O1tFZ"
      },
      "source": [
        "# expected results for class 0 (Iris-setosa). Turn 0s to 1s (true) and the rest to 0's (false)\n",
        "Y0 =  [y+1 if y==0 else y-y for y in dataY]\n",
        "Y0_train = [y+1 if y==0 else y-y for y in Y_train]\n",
        "Y0_test = [y+1 if y==0 else y-y for y in Y_test]"
      ],
      "execution_count": 14,
      "outputs": []
    },
    {
      "cell_type": "markdown",
      "metadata": {
        "id": "TMSHdXCP85Fg"
      },
      "source": [
        "Create expected result data for 1 vs [1,2]"
      ]
    },
    {
      "cell_type": "code",
      "metadata": {
        "id": "TvHxjava1wgQ"
      },
      "source": [
        "# expected results for class 1 (Iris-versicolor). Keep 1s (true) and the rest to 0s (false)\n",
        "Y1_train = [y if y==1 else y-y for y in Y_train]\n",
        "Y1_test = [y if y==1 else y-y for y in Y_test]"
      ],
      "execution_count": 15,
      "outputs": []
    },
    {
      "cell_type": "markdown",
      "metadata": {
        "id": "cd6CfVeT-X19"
      },
      "source": [
        "Create expected result data fordata for 2 vs [0,1]"
      ]
    },
    {
      "cell_type": "code",
      "metadata": {
        "id": "5OX1130g2MSk",
        "colab": {
          "base_uri": "https://localhost:8080/"
        },
        "outputId": "0d392235-79f2-496a-b98e-0ff6e6fc04e2"
      },
      "source": [
        "# expected results for class 2 (Iris-virginica). Turn 2s to 1s (true) and the rest to 0s (false)\n",
        "Y2_train = [y-1 if y==2 else y-y for y in Y_train]\n",
        "Y2_test = [y-1 if y==2 else y-y for y in Y_test]\n",
        "\n",
        "print(Y_train)"
      ],
      "execution_count": 16,
      "outputs": [
        {
          "output_type": "stream",
          "name": "stdout",
          "text": [
            "[0, 1, 2, 0, 2, 0, 0, 1, 0, 1, 1, 2, 1, 2, 0, 0, 0, 0, 1, 0, 1, 2, 1, 1, 1, 0, 0, 1, 0, 1, 2, 2, 1, 1, 1, 2, 1, 0, 1, 1, 1, 2, 1, 2, 1, 1, 2, 2, 2, 0, 0, 1, 2, 2, 2, 0, 1, 2, 1, 1, 1, 1, 2, 2, 0, 0, 2, 0, 2, 1, 1, 2, 2, 1, 0, 0, 2, 0, 1, 2, 2, 0, 0, 0, 2, 0, 0, 2, 1, 1, 1, 0, 2, 2, 1, 1, 0, 2, 2]\n"
          ]
        }
      ]
    },
    {
      "cell_type": "markdown",
      "metadata": {
        "id": "LoCyTW8J9Y7u"
      },
      "source": [
        "Create the tree models"
      ]
    },
    {
      "cell_type": "code",
      "metadata": {
        "id": "ph1ONFBD2PeK"
      },
      "source": [
        "model0 = [0,0,0,0,0] # for class 0 (Iris-setosa)\n",
        "model1 = [0,0,0,0,0] # for class 1 (Iris-versicolor)\n",
        "model2 = [0,0,0,0,0] # for class 2 (Iris-virginica)"
      ],
      "execution_count": 17,
      "outputs": []
    },
    {
      "cell_type": "code",
      "metadata": {
        "colab": {
          "base_uri": "https://localhost:8080/"
        },
        "id": "TAsNXKrlovys",
        "outputId": "6c642e03-63ba-4198-866d-df73f220934b"
      },
      "source": [
        "def linearReg(data,yHat,model):\n",
        "  X = [(d[0], d[1], d[2],d[3],d[4]) for d in data]\n",
        "  yprime =[]\n",
        "  alpha = 0.01\n",
        "  w = model\n",
        "  F = lambda W, X: sum([w*x for w,x in zip(W,X)])\n",
        "  sigmoid = lambda y: 1/(1+math.exp(-y))\n",
        "  classify = lambda y: 1 if y>0.5 else 0\n",
        "  \n",
        "  for _ in range(500):\n",
        "    yPredicted = [sigmoid(F(w, x)) for x in X]\n",
        "    deltaX0 = sum( [((r-y)*x[0]) for r,y,x in zip(yHat, yPredicted, X)] )\n",
        "    deltaX1 = sum( [((r-y)*x[1]) for r,y,x in zip(yHat, yPredicted, X)] )\n",
        "    deltaX2 = sum( [((r-y)*x[2]) for r,y,x in zip(yHat, yPredicted, X)] )\n",
        "    deltaX3 = sum( [((r-y)*x[3]) for r,y,x in zip(yHat, yPredicted, X)] )\n",
        "    deltaX4 = sum( [((r-y)*x[4]) for r,y,x in zip(yHat, yPredicted, X)] )\n",
        "\n",
        "    w = [w[0]+alpha*deltaX0, w[1]+alpha*deltaX1, w[2]+alpha*deltaX2,w[3]+alpha*deltaX3,w[4]+alpha*deltaX4]\n",
        "  return w\n",
        "\n",
        "print(\"Model for Y0 | Iris-setosa \")\n",
        "model0 = linearReg(X_train,Y0_train,model0)\n",
        "print(model0)\n",
        "\n",
        "print(\"\\nModel for Y1 | Iris-versicolor \")\n",
        "model1 = linearReg(X_train,Y1_train,model1)\n",
        "print(model1)\n",
        "\n",
        "print(\"\\nModel for Y2 | Iris-virginica \")\n",
        "model2 = linearReg(X_train,Y2_train,model2)\n",
        "print(model2)"
      ],
      "execution_count": 23,
      "outputs": [
        {
          "output_type": "stream",
          "name": "stdout",
          "text": [
            "Model for Y0 | Iris-setosa \n",
            "[0.5094757274482309, 0.7653566573457693, 2.926465837144343, -4.490439459052116, -2.1241745109988748]\n",
            "\n",
            "Model for Y1 | Iris-versicolor \n",
            "[11.844063687397307, 8.60613580819416, -17.124352940082733, 3.5179600091716257, -15.145911871185882]\n",
            "\n",
            "Model for Y2 | Iris-virginica \n",
            "[-4.612965826351856, -7.138478745563332, -6.620689615072662, 9.955475273105781, 11.207616080749295]\n"
          ]
        }
      ]
    },
    {
      "cell_type": "code",
      "metadata": {
        "colab": {
          "base_uri": "https://localhost:8080/"
        },
        "id": "98fu2G10ziJh",
        "outputId": "ea966225-7797-424f-9866-697603e35e7c"
      },
      "source": [
        "F = lambda W, X: sum([w*x for w,x in zip(W,X)])\n",
        "sigmoid = lambda y: 1/(1+math.exp(-y))\n",
        "classify = lambda y: 1 if y>0.5 else 0\n",
        "\n",
        "X_test_prime = X_test\n",
        "Y2_test_prime = Y2_test\n",
        "\n",
        "yPredicted_with_model0 = ([round(F(model0, x),3) for x in X_test],0)\n",
        "\n",
        "\n",
        "yPredicted_with_model1 = ([round(F(model1, x),3) for x in X_test],1)\n",
        "\n",
        "\n",
        "yPredicted_with_model2 = ([round(F(model2, x),3) for x in X_test],2)\n",
        "\n",
        "#check for the \"best\" model to pick from the 3\n",
        "predicted_test =[]\n",
        "u = len(Y_test)\n",
        "for i in range(u):\n",
        "  if (yPredicted_with_model0[0][i] >= yPredicted_with_model1[0][i]  and \n",
        "      yPredicted_with_model0[0][i]  >= yPredicted_with_model2[0][i] ):\n",
        "      predicted_test.append(yPredicted_with_model0[1])\n",
        "\n",
        "  elif (yPredicted_with_model1[0][i]  >= yPredicted_with_model0[0][i]  and\n",
        "      yPredicted_with_model1[0][i]  >= yPredicted_with_model2[0][i] ):\n",
        "      predicted_test.append(yPredicted_with_model1[1])\n",
        "\n",
        "  else:\n",
        "      predicted_test.append(yPredicted_with_model2[1])\n",
        "\n",
        "print(\"\\n0 = Iris-setosa, 1 = Iris-versicolor,  2 = Iris-virginica\" )\n",
        "print(\"\\nvaribles, Y Test , Y Predicted Test\")\n",
        "incorrect = 0\n",
        "for i in range(u):\n",
        "  if(Y_test[i] != predicted_test[i]):\n",
        "    incorrect+=1\n",
        "  print(X_test[i], Y_test[i], predicted_test[i] )\n",
        "print(\"Errors: \", incorrect, \"of \", u, \"test samples.\")"
      ],
      "execution_count": 19,
      "outputs": [
        {
          "output_type": "stream",
          "name": "stdout",
          "text": [
            "\n",
            "0 = Iris-setosa, 1 = Iris-versicolor,  2 = Iris-virginica\n",
            "\n",
            "varibles, Y Test , Y Predicted Test\n",
            "[1, 4.9, 3.0, 1.4, 0.2] 0 2\n",
            "[1, 5.1, 3.8, 1.9, 0.4] 0 2\n",
            "[1, 7.2, 3.0, 5.8, 1.6] 2 2\n",
            "[1, 5.0, 3.6, 1.4, 0.2] 0 2\n",
            "[1, 5.0, 3.2, 1.2, 0.2] 0 2\n",
            "[1, 4.8, 3.0, 1.4, 0.3] 0 2\n",
            "[1, 5.1, 3.4, 1.5, 0.2] 0 2\n",
            "[1, 5.8, 2.8, 5.1, 2.4] 2 2\n",
            "[1, 6.3, 2.7, 4.9, 1.8] 2 2\n",
            "[1, 6.7, 3.1, 5.6, 2.4] 2 2\n",
            "[1, 4.7, 3.2, 1.6, 0.2] 0 2\n",
            "[1, 7.7, 3.0, 6.1, 2.3] 2 2\n",
            "[1, 5.7, 2.5, 5.0, 2.0] 2 2\n",
            "[1, 6.3, 2.9, 5.6, 1.8] 2 2\n",
            "[1, 6.3, 2.8, 5.1, 1.5] 2 2\n",
            "[1, 5.5, 3.5, 1.3, 0.2] 0 2\n",
            "[1, 6.7, 3.0, 5.2, 2.3] 2 2\n",
            "[1, 5.8, 2.7, 5.1, 1.9] 2 2\n",
            "[1, 4.5, 2.3, 1.3, 0.3] 0 2\n",
            "[1, 5.6, 3.0, 4.1, 1.3] 1 2\n",
            "[1, 6.0, 3.4, 4.5, 1.6] 1 2\n",
            "[1, 6.7, 3.1, 4.7, 1.5] 1 2\n",
            "[1, 6.4, 3.2, 5.3, 2.3] 2 2\n",
            "[1, 6.9, 3.1, 4.9, 1.5] 1 2\n",
            "[1, 5.4, 3.9, 1.7, 0.4] 0 2\n",
            "[1, 6.8, 3.0, 5.5, 2.1] 2 2\n",
            "[1, 5.8, 2.6, 4.0, 1.2] 1 2\n",
            "[1, 6.7, 3.1, 4.4, 1.4] 1 2\n",
            "[1, 4.8, 3.4, 1.6, 0.2] 0 2\n",
            "[1, 6.1, 3.0, 4.6, 1.4] 1 2\n",
            "[1, 6.7, 3.0, 5.0, 1.7] 1 2\n",
            "[1, 6.5, 3.0, 5.8, 2.2] 2 2\n",
            "[1, 6.0, 3.0, 4.8, 1.8] 2 2\n",
            "[1, 5.8, 2.7, 5.1, 1.9] 2 2\n",
            "[1, 5.0, 3.4, 1.6, 0.4] 0 2\n",
            "[1, 6.4, 3.1, 5.5, 1.8] 2 2\n",
            "[1, 5.8, 4.0, 1.2, 0.2] 0 2\n",
            "[1, 5.2, 3.5, 1.5, 0.2] 0 2\n",
            "[1, 6.6, 3.0, 4.4, 1.4] 1 2\n",
            "[1, 5.4, 3.4, 1.5, 0.4] 0 2\n",
            "[1, 4.9, 3.1, 1.5, 0.1] 0 2\n",
            "[1, 6.0, 2.7, 5.1, 1.6] 1 2\n",
            "[1, 4.7, 3.2, 1.3, 0.2] 0 2\n",
            "[1, 5.5, 2.3, 4.0, 1.3] 1 2\n",
            "[1, 5.0, 2.3, 3.3, 1.0] 1 2\n",
            "[1, 4.6, 3.6, 1.0, 0.2] 0 2\n",
            "[1, 7.9, 3.8, 6.4, 2.0] 2 2\n",
            "[1, 6.1, 2.9, 4.7, 1.4] 1 2\n",
            "[1, 6.7, 2.5, 5.8, 1.8] 2 2\n",
            "[1, 4.4, 3.0, 1.3, 0.2] 0 2\n",
            "Errors:  32 of  50 test samples.\n"
          ]
        }
      ]
    },
    {
      "cell_type": "markdown",
      "metadata": {
        "id": "fIyVlW9j9ePO"
      },
      "source": [
        "Simple Logistical Regression function"
      ]
    },
    {
      "cell_type": "code",
      "metadata": {
        "id": "UdfYv3cLqx-Y"
      },
      "source": [
        "model0 = [0,0,0,0,0] # for class 0 (Iris-setosa)\n",
        "model1 = [0,0,0,0,0] # for class 1 (Iris-versicolor)\n",
        "model2 = [0,0,0,0,0] # for class 2 (Iris-virginica)"
      ],
      "execution_count": 20,
      "outputs": []
    },
    {
      "cell_type": "code",
      "metadata": {
        "colab": {
          "base_uri": "https://localhost:8080/"
        },
        "id": "WtHifN_A2pAY",
        "outputId": "5e2e4fea-c5f8-4972-bb96-53c481283df8"
      },
      "source": [
        "def logReg(data,yHat,model):\n",
        "  X = [(d[0], d[1], d[2],d[3],d[4]) for d in data]\n",
        "  yprime =[]\n",
        "  alpha = 0.01\n",
        "  w = model\n",
        "  F = lambda W, X: sum([w*x for w,x in zip(W,X)])\n",
        "  sigmoid = lambda y: 1/(1+math.exp(-y))\n",
        "  classify = lambda y: 1 if y>0.5 else 0\n",
        "  \n",
        "  for _ in range(500):\n",
        "    yPredicted = [sigmoid(F(w, x)) for x in X]\n",
        "    deltaX0 = sum( [((r-y)*x[0]) for r,y,x in zip(yHat, yPredicted, X)] )\n",
        "    deltaX1 = sum( [((r-y)*x[1]) for r,y,x in zip(yHat, yPredicted, X)] )\n",
        "    deltaX2 = sum( [((r-y)*x[2]) for r,y,x in zip(yHat, yPredicted, X)] )\n",
        "    deltaX3 = sum( [((r-y)*x[3]) for r,y,x in zip(yHat, yPredicted, X)] )\n",
        "    deltaX4 = sum( [((r-y)*x[4]) for r,y,x in zip(yHat, yPredicted, X)] )\n",
        "\n",
        "    w = [w[0]+alpha*deltaX0, w[1]+alpha*deltaX1, w[2]+alpha*deltaX2,w[3]+alpha*deltaX3,w[4]+alpha*deltaX4]\n",
        "  return w\n",
        "\n",
        "print(\"Model for Y0 | Iris-setosa \")\n",
        "model0 = logReg(X_train,Y0_train,model0)\n",
        "print(model0)\n",
        "\n",
        "print(\"\\nModel for Y1 | Iris-versicolor \")\n",
        "model1 = logReg(X_train,Y1_train,model1)\n",
        "print(model1)\n",
        "\n",
        "print(\"\\nModel for Y2 | Iris-virginica \")\n",
        "model2 = logReg(X_train,Y2_train,model2)\n",
        "print(model2)"
      ],
      "execution_count": 21,
      "outputs": [
        {
          "output_type": "stream",
          "name": "stdout",
          "text": [
            "Model for Y0 | Iris-setosa \n",
            "[0.4762190170525634, 0.7162574822192426, 2.671550161177864, -4.130999702417316, -1.9351750119003357]\n",
            "\n",
            "Model for Y1 | Iris-versicolor \n",
            "[6.38728492683111, 5.730381099536206, -12.294881868082085, 2.48203748427414, -9.42941319778704]\n",
            "\n",
            "Model for Y2 | Iris-virginica \n",
            "[-4.112794463532826, -7.2688533078807565, -6.210908477530231, 10.2241477944029, 9.960912106083708]\n"
          ]
        }
      ]
    },
    {
      "cell_type": "markdown",
      "metadata": {
        "id": "6MPWmSVA9jn4"
      },
      "source": [
        "Find the best model from the 3 for each test sample"
      ]
    },
    {
      "cell_type": "code",
      "metadata": {
        "colab": {
          "base_uri": "https://localhost:8080/"
        },
        "id": "WyyCBzI623RN",
        "outputId": "90ced611-f4ba-4b48-8fc3-038106072c9b"
      },
      "source": [
        "F = lambda W, X: sum([w*x for w,x in zip(W,X)])\n",
        "sigmoid = lambda y: 1/(1+math.exp(-y))\n",
        "classify = lambda y: 1 if y>0.5 else 0\n",
        "\n",
        "X_test_prime = X_test\n",
        "Y2_test_prime = Y2_test\n",
        "\n",
        "yPredicted_with_model0 = ([round(sigmoid(F(model0, x)),3) for x in X_test],0)\n",
        "\n",
        "\n",
        "yPredicted_with_model1 = ([round(sigmoid(F(model1, x)),3) for x in X_test],1)\n",
        "\n",
        "\n",
        "yPredicted_with_model2 = ([round(sigmoid(F(model2, x)),3) for x in X_test],2)\n",
        "\n",
        "#check for the \"best\" model to pick from the 3\n",
        "predicted_test =[]\n",
        "u = len(Y_test)\n",
        "for i in range(u):\n",
        "  if (yPredicted_with_model0[0][i] >= yPredicted_with_model1[0][i]  and \n",
        "      yPredicted_with_model0[0][i]  >= yPredicted_with_model2[0][i] ):\n",
        "      predicted_test.append(yPredicted_with_model0[1])\n",
        "\n",
        "  elif (yPredicted_with_model1[0][i]  >= yPredicted_with_model0[0][i]  and\n",
        "      yPredicted_with_model1[0][i]  >= yPredicted_with_model2[0][i] ):\n",
        "      predicted_test.append(yPredicted_with_model1[1])\n",
        "\n",
        "  else:\n",
        "      predicted_test.append(yPredicted_with_model2[1])\n",
        "\n",
        "print(\"\\n0 = Iris-setosa, 1 = Iris-versicolor,  2 = Iris-virginica\" )\n",
        "print(\"\\nvaribles, Y Test , Y Predicted Test\")\n",
        "incorrect = 0\n",
        "for i in range(u):\n",
        "  if(Y_test[i] != predicted_test[i]):\n",
        "    incorrect+=1\n",
        "  print(X_test[i], Y_test[i], predicted_test[i] )\n",
        "print(\"Errors: \", incorrect, \"of \", u, \"test samples.\")"
      ],
      "execution_count": 22,
      "outputs": [
        {
          "output_type": "stream",
          "name": "stdout",
          "text": [
            "\n",
            "0 = Iris-setosa, 1 = Iris-versicolor,  2 = Iris-virginica\n",
            "\n",
            "varibles, Y Test , Y Predicted Test\n",
            "[1, 4.9, 3.0, 1.4, 0.2] 0 0\n",
            "[1, 5.1, 3.8, 1.9, 0.4] 0 0\n",
            "[1, 7.2, 3.0, 5.8, 1.6] 2 1\n",
            "[1, 5.0, 3.6, 1.4, 0.2] 0 0\n",
            "[1, 5.0, 3.2, 1.2, 0.2] 0 0\n",
            "[1, 4.8, 3.0, 1.4, 0.3] 0 0\n",
            "[1, 5.1, 3.4, 1.5, 0.2] 0 0\n",
            "[1, 5.8, 2.8, 5.1, 2.4] 2 2\n",
            "[1, 6.3, 2.7, 4.9, 1.8] 2 1\n",
            "[1, 6.7, 3.1, 5.6, 2.4] 2 2\n",
            "[1, 4.7, 3.2, 1.6, 0.2] 0 0\n",
            "[1, 7.7, 3.0, 6.1, 2.3] 2 1\n",
            "[1, 5.7, 2.5, 5.0, 2.0] 2 2\n",
            "[1, 6.3, 2.9, 5.6, 1.8] 2 2\n",
            "[1, 6.3, 2.8, 5.1, 1.5] 2 1\n",
            "[1, 5.5, 3.5, 1.3, 0.2] 0 0\n",
            "[1, 6.7, 3.0, 5.2, 2.3] 2 2\n",
            "[1, 5.8, 2.7, 5.1, 1.9] 2 2\n",
            "[1, 4.5, 2.3, 1.3, 0.3] 0 1\n",
            "[1, 5.6, 3.0, 4.1, 1.3] 1 1\n",
            "[1, 6.0, 3.4, 4.5, 1.6] 1 1\n",
            "[1, 6.7, 3.1, 4.7, 1.5] 1 1\n",
            "[1, 6.4, 3.2, 5.3, 2.3] 2 2\n",
            "[1, 6.9, 3.1, 4.9, 1.5] 1 1\n",
            "[1, 5.4, 3.9, 1.7, 0.4] 0 0\n",
            "[1, 6.8, 3.0, 5.5, 2.1] 2 2\n",
            "[1, 5.8, 2.6, 4.0, 1.2] 1 1\n",
            "[1, 6.7, 3.1, 4.4, 1.4] 1 1\n",
            "[1, 4.8, 3.4, 1.6, 0.2] 0 0\n",
            "[1, 6.1, 3.0, 4.6, 1.4] 1 1\n",
            "[1, 6.7, 3.0, 5.0, 1.7] 1 1\n",
            "[1, 6.5, 3.0, 5.8, 2.2] 2 2\n",
            "[1, 6.0, 3.0, 4.8, 1.8] 2 2\n",
            "[1, 5.8, 2.7, 5.1, 1.9] 2 2\n",
            "[1, 5.0, 3.4, 1.6, 0.4] 0 0\n",
            "[1, 6.4, 3.1, 5.5, 1.8] 2 2\n",
            "[1, 5.8, 4.0, 1.2, 0.2] 0 0\n",
            "[1, 5.2, 3.5, 1.5, 0.2] 0 0\n",
            "[1, 6.6, 3.0, 4.4, 1.4] 1 1\n",
            "[1, 5.4, 3.4, 1.5, 0.4] 0 0\n",
            "[1, 4.9, 3.1, 1.5, 0.1] 0 0\n",
            "[1, 6.0, 2.7, 5.1, 1.6] 1 1\n",
            "[1, 4.7, 3.2, 1.3, 0.2] 0 0\n",
            "[1, 5.5, 2.3, 4.0, 1.3] 1 1\n",
            "[1, 5.0, 2.3, 3.3, 1.0] 1 1\n",
            "[1, 4.6, 3.6, 1.0, 0.2] 0 0\n",
            "[1, 7.9, 3.8, 6.4, 2.0] 2 1\n",
            "[1, 6.1, 2.9, 4.7, 1.4] 1 1\n",
            "[1, 6.7, 2.5, 5.8, 1.8] 2 1\n",
            "[1, 4.4, 3.0, 1.3, 0.2] 0 0\n",
            "Errors:  7 of  50 test samples.\n"
          ]
        }
      ]
    }
  ]
}