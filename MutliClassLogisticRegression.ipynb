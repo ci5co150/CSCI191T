{
  "nbformat": 4,
  "nbformat_minor": 0,
  "metadata": {
    "colab": {
      "name": "MutliClassLogisticRegression.ipynb",
      "provenance": [],
      "collapsed_sections": [],
      "authorship_tag": "ABX9TyMrehh9ie/EMx4UsZ4o8eNs",
      "include_colab_link": true
    },
    "kernelspec": {
      "name": "python3",
      "display_name": "Python 3"
    },
    "language_info": {
      "name": "python"
    }
  },
  "cells": [
    {
      "cell_type": "markdown",
      "metadata": {
        "id": "view-in-github",
        "colab_type": "text"
      },
      "source": [
        "<a href=\"https://colab.research.google.com/github/ci5co150/CSCI191T/blob/main/MutliClassLogisticRegression.ipynb\" target=\"_parent\"><img src=\"https://colab.research.google.com/assets/colab-badge.svg\" alt=\"Open In Colab\"/></a>"
      ]
    },
    {
      "cell_type": "markdown",
      "metadata": {
        "id": "UmkoWIpsw2ZO"
      },
      "source": [
        "Implementing Multiclass Logistic Regression using 1 vs rest method"
      ]
    },
    {
      "cell_type": "code",
      "metadata": {
        "id": "6BCBLEdxEBEh"
      },
      "source": [
        "### Includes\n",
        "%matplotlib inline\n",
        "import matplotlib.pyplot as plt\n",
        "import numpy as np\n",
        "import math\n"
      ],
      "execution_count": 12,
      "outputs": []
    },
    {
      "cell_type": "code",
      "metadata": {
        "id": "rUh69gQMEGtb"
      },
      "source": [
        "\n",
        "data = [((1, 5.1, 3.5), 0), ((1, 4.9, 3.0), 0), ((1, 4.7, 3.2), 0), ((1, 4.6, 3.1), 0), ((1, 5.0, 3.6), 0), ((1, 5.4, 3.9), 0), ((1, 4.6, 3.4), 0), ((1, 5.0, 3.4), 0), ((1, 4.4, 2.9), 0), ((1, 4.9, 3.1), 0), ((1, 5.4, 3.7), 0), ((1, 4.8, 3.4), 0), ((1, 4.8, 3.0), 0), ((1, 4.3, 3.0), 0), ((1, 5.8, 4.0), 0), ((1, 5.7, 4.4), 0), ((1, 5.4, 3.9), 0), ((1, 5.1, 3.5), 0), ((1, 5.7, 3.8), 0), ((1, 5.1, 3.8), 0), ((1, 5.4, 3.4), 0), ((1, 5.1, 3.7), 0), ((1, 4.6, 3.6), 0), ((1, 5.1, 3.3), 0), ((1, 4.8, 3.4), 0), ((1, 5.0, 3.0), 0), ((1, 5.0, 3.4), 0), ((1, 5.2, 3.5), 0), ((1, 5.2, 3.4), 0), ((1, 4.7, 3.2), 0), ((1, 4.8, 3.1), 0), ((1, 5.4, 3.4), 0), ((1, 5.2, 4.1), 0), ((1, 5.5, 4.2), 0), ((1, 4.9, 3.1), 0), ((1, 5.0, 3.2), 0), ((1, 5.5, 3.5), 0), ((1, 4.9, 3.6), 0), ((1, 4.4, 3.0), 0), ((1, 5.1, 3.4), 0), ((1, 5.0, 3.5), 0), ((1, 4.5, 2.3), 0), ((1, 4.4, 3.2), 0), ((1, 5.0, 3.5), 0), ((1, 5.1, 3.8), 0), ((1, 4.8, 3.0), 0), ((1, 5.1, 3.8), 0), ((1, 4.6, 3.2), 0), ((1, 5.3, 3.7), 0), ((1, 5.0, 3.3), 0), ((1, 7.0, 3.2), 1), ((1, 6.4, 3.2), 1), ((1, 6.9, 3.1), 1), ((1, 5.5, 2.3), 1), ((1, 6.5, 2.8), 1), ((1, 5.7, 2.8), 1), ((1, 6.3, 3.3), 1), ((1, 4.9, 2.4), 1), ((1, 6.6, 2.9), 1), ((1, 5.2, 2.7), 1), ((1, 5.0, 2.0), 1), ((1, 5.9, 3.0), 1), ((1, 6.0, 2.2), 1), ((1, 6.1, 2.9), 1), ((1, 5.6, 2.9), 1), ((1, 6.7, 3.1), 1), ((1, 5.6, 3.0), 1), ((1, 5.8, 2.7), 1), ((1, 6.2, 2.2), 1), ((1, 5.6, 2.5), 1), ((1, 5.9, 3.2), 1), ((1, 6.1, 2.8), 1), ((1, 6.3, 2.5), 1), ((1, 6.1, 2.8), 1), ((1, 6.4, 2.9), 1), ((1, 6.6, 3.0), 1), ((1, 6.8, 2.8), 1), ((1, 6.7, 3.0), 1), ((1, 6.0, 2.9), 1), ((1, 5.7, 2.6), 1), ((1, 5.5, 2.4), 1), ((1, 5.5, 2.4), 1), ((1, 5.8, 2.7), 1), ((1, 6.0, 2.7), 1), ((1, 5.4, 3.0), 1), ((1, 6.0, 3.4), 1), ((1, 6.7, 3.1), 1), ((1, 6.3, 2.3), 1), ((1, 5.6, 3.0), 1), ((1, 5.5, 2.5), 1), ((1, 5.5, 2.6), 1), ((1, 6.1, 3.0), 1), ((1, 5.8, 2.6), 1), ((1, 5.0, 2.3), 1), ((1, 5.6, 2.7), 1), ((1, 5.7, 3.0), 1), ((1, 5.7, 2.9), 1), ((1, 6.2, 2.9), 1), ((1, 5.1, 2.5), 1), ((1, 5.7, 2.8), 1), ((1, 6.3, 3.3), 2), ((1, 5.8, 2.7), 2), ((1, 7.1, 3.0), 2), ((1, 6.3, 2.9), 2), ((1, 6.5, 3.0), 2), ((1, 7.6, 3.0), 2), ((1, 4.9, 2.5), 2), ((1, 7.3, 2.9), 2), ((1, 6.7, 2.5), 2), ((1, 7.2, 3.6), 2), ((1, 6.5, 3.2), 2), ((1, 6.4, 2.7), 2), ((1, 6.8, 3.0), 2), ((1, 5.7, 2.5), 2), ((1, 5.8, 2.8), 2), ((1, 6.4, 3.2), 2), ((1, 6.5, 3.0), 2), ((1, 7.7, 3.8), 2), ((1, 7.7, 2.6), 2), ((1, 6.0, 2.2), 2), ((1, 6.9, 3.2), 2), ((1, 5.6, 2.8), 2), ((1, 7.7, 2.8), 2), ((1, 6.3, 2.7), 2), ((1, 6.7, 3.3), 2), ((1, 7.2, 3.2), 2), ((1, 6.2, 2.8), 2), ((1, 6.1, 3.0), 2), ((1, 6.4, 2.8), 2), ((1, 7.2, 3.0), 2), ((1, 7.4, 2.8), 2), ((1, 7.9, 3.8), 2), ((1, 6.4, 2.8), 2), ((1, 6.3, 2.8), 2), ((1, 6.1, 2.6), 2), ((1, 7.7, 3.0), 2), ((1, 6.3, 3.4), 2), ((1, 6.4, 3.1), 2), ((1, 6.0, 3.0), 2), ((1, 6.9, 3.1), 2), ((1, 6.7, 3.1), 2), ((1, 6.9, 3.1), 2), ((1, 5.8, 2.7), 2), ((1, 6.8, 3.2), 2), ((1, 6.7, 3.3), 2), ((1, 6.7, 3.0), 2), ((1, 6.3, 2.5), 2), ((1, 6.5, 3.0), 2), ((1, 6.2, 3.4), 2), ((1, 5.9, 3.0), 2)]\n",
        "dataX = [(d[0], d[1], d[2]) for d,_ in data]\n",
        "dataY = [y for _,y in data]\n"
      ],
      "execution_count": 13,
      "outputs": []
    },
    {
      "cell_type": "markdown",
      "metadata": {
        "id": "XbtAUuKkIAz_"
      },
      "source": [
        "Represent the data graphically"
      ]
    },
    {
      "cell_type": "code",
      "metadata": {
        "colab": {
          "base_uri": "https://localhost:8080/",
          "height": 305
        },
        "id": "O6N355OP8ekf",
        "outputId": "6bf65d15-0cf9-4a84-93cd-f2aac6400bfe"
      },
      "source": [
        "dataX1 = [x[1] for x,_ in data]\n",
        "dataX2 = [x[2] for x,_ in data]\n",
        "plt.scatter(dataX1,dataX2, c=dataY,cmap='jet')\n",
        "plt.show()\n",
        "print(dataY)\n"
      ],
      "execution_count": 14,
      "outputs": [
        {
          "output_type": "display_data",
          "data": {
            "image/png": "[encoded data removed]",
            "text/plain": [
              "<Figure size 432x288 with 1 Axes>"
            ]
          },
          "metadata": {
            "needs_background": "light"
          }
        },
        {
          "output_type": "stream",
          "name": "stdout",
          "text": [
            "[0, 0, 0, 0, 0, 0, 0, 0, 0, 0, 0, 0, 0, 0, 0, 0, 0, 0, 0, 0, 0, 0, 0, 0, 0, 0, 0, 0, 0, 0, 0, 0, 0, 0, 0, 0, 0, 0, 0, 0, 0, 0, 0, 0, 0, 0, 0, 0, 0, 0, 1, 1, 1, 1, 1, 1, 1, 1, 1, 1, 1, 1, 1, 1, 1, 1, 1, 1, 1, 1, 1, 1, 1, 1, 1, 1, 1, 1, 1, 1, 1, 1, 1, 1, 1, 1, 1, 1, 1, 1, 1, 1, 1, 1, 1, 1, 1, 1, 1, 1, 2, 2, 2, 2, 2, 2, 2, 2, 2, 2, 2, 2, 2, 2, 2, 2, 2, 2, 2, 2, 2, 2, 2, 2, 2, 2, 2, 2, 2, 2, 2, 2, 2, 2, 2, 2, 2, 2, 2, 2, 2, 2, 2, 2, 2, 2, 2, 2, 2, 2]\n"
          ]
        }
      ]
    },
    {
      "cell_type": "markdown",
      "metadata": {
        "id": "R88t5g_cFc18"
      },
      "source": [
        "Setting up train and test data"
      ]
    },
    {
      "cell_type": "code",
      "metadata": {
        "id": "3rP-3Me9Fa4a",
        "colab": {
          "base_uri": "https://localhost:8080/"
        },
        "outputId": "c85a9cae-b93b-4a64-8e77-901e6463810c"
      },
      "source": [
        "from sklearn.model_selection import train_test_split\n",
        "X_train, X_test, Y_train, Y_test = train_test_split(dataX, dataY, test_size=0.33, random_state=45)\n",
        "\n",
        "print(X_train)"
      ],
      "execution_count": 23,
      "outputs": [
        {
          "output_type": "stream",
          "name": "stdout",
          "text": [
            "[(1, 4.8, 3.0), (1, 5.6, 3.0), (1, 6.4, 2.8), (1, 5.3, 3.7), (1, 6.7, 3.3), (1, 5.1, 3.8), (1, 4.7, 3.2), (1, 5.6, 2.7), (1, 4.6, 3.2), (1, 5.5, 2.6), (1, 6.3, 2.5), (1, 6.0, 3.0), (1, 5.6, 2.5), (1, 6.9, 3.1), (1, 4.7, 3.2), (1, 5.1, 3.4), (1, 4.5, 2.3), (1, 5.1, 3.3), (1, 6.1, 2.8), (1, 5.0, 3.4), (1, 7.0, 3.2), (1, 7.7, 3.0), (1, 5.5, 2.4), (1, 6.1, 2.8), (1, 6.2, 2.9), (1, 4.9, 3.1), (1, 5.4, 3.4), (1, 6.0, 2.7), (1, 5.7, 3.8), (1, 6.0, 2.9), (1, 6.3, 3.3), (1, 7.7, 2.8), (1, 5.8, 2.8), (1, 5.5, 2.5), (1, 5.8, 2.7), (1, 6.8, 3.2), (1, 5.5, 2.4), (1, 5.4, 3.9), (1, 5.6, 3.0), (1, 5.7, 2.8), (1, 5.2, 2.7), (1, 7.1, 3.0), (1, 5.7, 2.8), (1, 5.9, 3.2), (1, 7.3, 2.9), (1, 5.0, 2.0), (1, 6.6, 2.9), (1, 5.9, 3.0), (1, 6.1, 3.0), (1, 6.5, 3.0), (1, 5.2, 3.5), (1, 4.6, 3.6), (1, 5.1, 2.5), (1, 7.2, 3.6), (1, 6.3, 2.5), (1, 6.1, 2.6), (1, 5.4, 3.9), (1, 6.5, 2.8), (1, 6.5, 3.0), (1, 6.1, 2.9), (1, 6.6, 3.0), (1, 6.7, 3.0), (1, 5.0, 3.3), (1, 6.3, 3.4), (1, 6.5, 3.0), (1, 4.8, 3.4), (1, 4.4, 3.2), (1, 6.7, 2.5), (1, 4.6, 3.4), (1, 6.4, 2.8), (1, 5.7, 2.6), (1, 5.9, 3.0), (1, 6.9, 3.1), (1, 7.4, 2.8), (1, 6.7, 3.1), (1, 5.4, 3.4), (1, 5.5, 3.5), (1, 4.9, 2.5), (1, 5.8, 4.0), (1, 6.3, 3.3), (1, 6.2, 2.8), (1, 6.5, 3.2), (1, 5.1, 3.5), (1, 4.8, 3.0), (1, 4.8, 3.4), (1, 6.2, 3.4), (1, 4.4, 2.9), (1, 5.1, 3.8), (1, 7.7, 2.6), (1, 4.9, 2.4), (1, 5.5, 2.3), (1, 6.7, 3.1), (1, 5.7, 4.4), (1, 6.9, 3.2), (1, 5.6, 2.8), (1, 6.2, 2.2), (1, 5.7, 3.0), (1, 5.2, 4.1), (1, 6.7, 3.3), (1, 7.9, 3.8)]\n"
          ]
        }
      ]
    },
    {
      "cell_type": "markdown",
      "metadata": {
        "id": "DCc7gX36FoSY"
      },
      "source": [
        "How our train data looks"
      ]
    },
    {
      "cell_type": "code",
      "metadata": {
        "colab": {
          "base_uri": "https://localhost:8080/",
          "height": 268
        },
        "id": "Vwqi4xtqFsYb",
        "outputId": "50d588ea-57d9-43d1-ccc7-4f477b79363a"
      },
      "source": [
        "dataX1_train = [x[1] for x in X_train]\n",
        "dataX2_train = [x[2] for x in X_train]\n",
        "\n",
        "dataY_train = Y_train\n",
        "\n",
        "plt.scatter(dataX1_train, dataX2_train , c=dataY_train,cmap='jet')\n",
        "plt.show()"
      ],
      "execution_count": 16,
      "outputs": [
        {
          "output_type": "display_data",
          "data": {
            "image/png": "[encoded data removed]",
            "text/plain": [
              "<Figure size 432x288 with 1 Axes>"
            ]
          },
          "metadata": {
            "needs_background": "light"
          }
        }
      ]
    },
    {
      "cell_type": "markdown",
      "metadata": {
        "id": "UeKp5NspsAb2"
      },
      "source": [
        "Create expected result data for 0 vs [1,2]"
      ]
    },
    {
      "cell_type": "code",
      "metadata": {
        "id": "eJKBBNZgEmjv"
      },
      "source": [
        "# expected result for class 0. Turn 0s to 1s (true) and the rest to 0's (false)\n",
        "Y0 =  [y+1 if y==0 else y-y for y in dataY]\n",
        "Y0_train = [y+1 if y==0 else y-y for y in Y_train]\n",
        "Y0_test = [y+1 if y==0 else y-y for y in Y_test]"
      ],
      "execution_count": 17,
      "outputs": []
    },
    {
      "cell_type": "markdown",
      "metadata": {
        "id": "w2CtGHgSvhCh"
      },
      "source": [
        "Create expected result data for 1 vs [1,2]"
      ]
    },
    {
      "cell_type": "code",
      "metadata": {
        "id": "2RiKRimBvlqF"
      },
      "source": [
        "# expected result for class 1. Keep 1s (true) and the rest to 0s (false)\n",
        "Y1_train = [y if y==1 else y-y for y in Y_train]\n",
        "Y1_test = [y if y==1 else y-y for y in Y_test]"
      ],
      "execution_count": 18,
      "outputs": []
    },
    {
      "cell_type": "markdown",
      "metadata": {
        "id": "rBW0LYhHvydG"
      },
      "source": [
        "Create expected result data fordata for 2 vs [0,1]"
      ]
    },
    {
      "cell_type": "code",
      "metadata": {
        "id": "l1dnVT5nv4Ab"
      },
      "source": [
        "# expected result for class 2. Turn 2s to 1s (true) and the rest to 0s (false)\n",
        "Y2_train = [y-1 if y==2 else y-y for y in Y_train]\n",
        "Y2_test = [y-1 if y==2 else y-y for y in Y_test]"
      ],
      "execution_count": 19,
      "outputs": []
    },
    {
      "cell_type": "markdown",
      "metadata": {
        "id": "zExXiuMDzovl"
      },
      "source": [
        "Create the tree models"
      ]
    },
    {
      "cell_type": "code",
      "metadata": {
        "id": "mdKj3FYXztXf"
      },
      "source": [
        "model0 = [0,0,0] # for class 0\n",
        "model1 = [0,0,0] # for class 1\n",
        "model2 = [0,0,0] # for class 2"
      ],
      "execution_count": 20,
      "outputs": []
    },
    {
      "cell_type": "markdown",
      "metadata": {
        "id": "JH5zaK7BwxS3"
      },
      "source": [
        "Simple Logistical Regression function\n"
      ]
    },
    {
      "cell_type": "code",
      "metadata": {
        "colab": {
          "base_uri": "https://localhost:8080/"
        },
        "id": "Vuw_zpaIEuTT",
        "outputId": "d3578078-e06d-4cfa-ef34-e54a10277b06"
      },
      "source": [
        "\n",
        "def logReg(data,yHat,model):\n",
        "  yprime =[]\n",
        "  alpha = 0.001\n",
        "  F = lambda W, X: sum([w*x for w,x in zip(W,X)])\n",
        "  sigmoid = lambda y: 1/(1+math.exp(-y))\n",
        "  classify = lambda y: 1 if y>0.5 else 0\n",
        "\n",
        "  w = model\n",
        "\n",
        "  X = [(d[0], d[1], d[2]) for d in data]\n",
        "\n",
        "  Y = yHat\n",
        "  for _ in range(2000):\n",
        "    yPredicted = [sigmoid(F(w, x)) for x in X]\n",
        "    deltaX0 = sum( [((r-y)*x[0]) for r,y,x in zip(Y, yPredicted, X)] )\n",
        "    deltaX1 = sum( [((r-y)*x[1]) for r,y,x in zip(Y, yPredicted, X)] )\n",
        "    deltaX2 = sum( [((r-y)*x[2]) for r,y,x in zip(Y, yPredicted, X)] )\n",
        "    \n",
        "    w = [w[0]+alpha*deltaX0, w[1]+alpha*deltaX1, w[2]+alpha*deltaX2]\n",
        "\n",
        "  return w\n",
        "\n",
        "print(\"Model for Y0\")\n",
        "model0 = logReg(X_train,Y0_train,model0)\n",
        "print(model0)\n",
        "\n",
        "print(\"\\nModel for Y1\")\n",
        "model1 = logReg(X_train,Y1_train,model1)\n",
        "print(model1)\n",
        "\n",
        "print(\"\\nModel for Y2\")\n",
        "model2 = logReg(X_train,Y2_train,model2)\n",
        "print(model2)\n"
      ],
      "execution_count": 21,
      "outputs": [
        {
          "output_type": "stream",
          "name": "stdout",
          "text": [
            "Model for Y0\n",
            "[1.1094229095989445, -3.7232549257207888, 6.0582885155149935]\n",
            "\n",
            "Model for Y1\n",
            "[2.316491908881084, 0.5344636637267679, -2.044554302629498]\n",
            "\n",
            "Model for Y2\n",
            "[-3.3693630064192686, 1.3954739975732697, -1.8953383272605249]\n"
          ]
        }
      ]
    },
    {
      "cell_type": "markdown",
      "metadata": {
        "id": "61pAD3SgSVsL"
      },
      "source": [
        "Find the best model from the 3"
      ]
    },
    {
      "cell_type": "code",
      "metadata": {
        "colab": {
          "base_uri": "https://localhost:8080/"
        },
        "id": "lBe0VqGNSUQo",
        "outputId": "581b195f-646c-4ccd-9255-063a6fccccef"
      },
      "source": [
        "F = lambda W, X: sum([w*x for w,x in zip(W,X)])\n",
        "sigmoid = lambda y: 1/(1+math.exp(-y))\n",
        "classify = lambda y: 1 if y>0.5 else 0\n",
        "\n",
        "X_test_prime = X_test\n",
        "Y2_test_prime = Y2_test\n",
        "\n",
        "yPredicted_with_model0 = ([round(sigmoid(F(model0, x)),3) for x in X_test],0)\n",
        "\n",
        "\n",
        "yPredicted_with_model1 = ([round(sigmoid(F(model1, x)),3) for x in X_test],1)\n",
        "\n",
        "\n",
        "yPredicted_with_model2 = ([round(sigmoid(F(model2, x)),3) for x in X_test],2)\n",
        "\n",
        "\n",
        "#check for the \"best\" model to pick from the 3\n",
        "predicted_test =[]\n",
        "u = len(Y_test)\n",
        "for i in range(u):\n",
        "  if (yPredicted_with_model0[0][i] >= yPredicted_with_model1[0][i]  and \n",
        "      yPredicted_with_model0[0][i]  >= yPredicted_with_model2[0][i] ):\n",
        "      predicted_test.append(yPredicted_with_model0[1])\n",
        "\n",
        "  elif (yPredicted_with_model1[0][i]  >= yPredicted_with_model0[0][i]  and\n",
        "      yPredicted_with_model1[0][i]  >= yPredicted_with_model2[0][i] ):\n",
        "      predicted_test.append(yPredicted_with_model1[1])\n",
        "\n",
        "  else:\n",
        "      predicted_test.append(yPredicted_with_model2[1])\n",
        "\n",
        "print(\"varibles, Y Test , Y Predicted Test\")\n",
        "incorrect = 0\n",
        "for i in range(u):\n",
        "  if(Y_test[i] != predicted_test[i]):\n",
        "    incorrect+=1\n",
        "  print(X_test[i], Y_test[i], predicted_test[i] )\n",
        "print(\"Errors: \", incorrect, \"of \", u, \"test samples.\")\n"
      ],
      "execution_count": 22,
      "outputs": [
        {
          "output_type": "stream",
          "name": "stdout",
          "text": [
            "varibles, Y Test , Y Predicted Test\n",
            "(1, 5.1, 3.5) 0 0\n",
            "(1, 5.0, 3.5) 0 0\n",
            "(1, 7.2, 3.0) 2 2\n",
            "(1, 4.6, 3.1) 0 0\n",
            "(1, 4.9, 3.1) 0 0\n",
            "(1, 5.1, 3.8) 0 0\n",
            "(1, 4.4, 3.0) 0 0\n",
            "(1, 7.6, 3.0) 2 2\n",
            "(1, 6.3, 2.7) 2 2\n",
            "(1, 6.7, 3.1) 2 2\n",
            "(1, 5.2, 3.4) 0 0\n",
            "(1, 7.2, 3.2) 2 2\n",
            "(1, 5.7, 2.5) 2 1\n",
            "(1, 6.3, 2.9) 2 2\n",
            "(1, 6.3, 2.8) 2 2\n",
            "(1, 5.0, 3.2) 0 0\n",
            "(1, 6.7, 3.0) 2 2\n",
            "(1, 5.8, 2.7) 2 1\n",
            "(1, 5.0, 3.5) 0 0\n",
            "(1, 6.3, 2.3) 1 2\n",
            "(1, 5.4, 3.0) 1 0\n",
            "(1, 6.0, 3.4) 1 0\n",
            "(1, 6.4, 3.2) 2 2\n",
            "(1, 6.4, 3.2) 1 2\n",
            "(1, 5.0, 3.6) 0 0\n",
            "(1, 6.8, 3.0) 2 2\n",
            "(1, 5.8, 2.6) 1 1\n",
            "(1, 5.6, 2.9) 1 1\n",
            "(1, 5.4, 3.7) 0 0\n",
            "(1, 6.1, 3.0) 1 2\n",
            "(1, 6.8, 2.8) 1 2\n",
            "(1, 5.7, 2.9) 1 1\n",
            "(1, 6.0, 2.2) 2 1\n",
            "(1, 5.8, 2.7) 2 1\n",
            "(1, 5.0, 3.0) 0 0\n",
            "(1, 6.4, 3.1) 2 2\n",
            "(1, 4.3, 3.0) 0 0\n",
            "(1, 5.0, 3.4) 0 0\n",
            "(1, 6.4, 2.9) 1 2\n",
            "(1, 4.8, 3.1) 0 0\n",
            "(1, 5.5, 4.2) 0 0\n",
            "(1, 5.8, 2.7) 1 1\n",
            "(1, 4.9, 3.0) 0 0\n",
            "(1, 6.9, 3.1) 1 2\n",
            "(1, 5.0, 2.3) 1 1\n",
            "(1, 5.1, 3.7) 0 0\n",
            "(1, 6.4, 2.7) 2 2\n",
            "(1, 6.0, 2.2) 1 1\n",
            "(1, 7.7, 3.8) 2 2\n",
            "(1, 4.9, 3.6) 0 0\n",
            "Errors:  12 of  50 test samples.\n"
          ]
        }
      ]
    }
  ]
}