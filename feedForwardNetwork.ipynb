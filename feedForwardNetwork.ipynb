{
  "nbformat": 4,
  "nbformat_minor": 0,
  "metadata": {
    "colab": {
      "name": "feedForwardNetwork.ipynb",
      "provenance": [],
      "authorship_tag": "ABX9TyN6eWGCebcJkB2fpNq4gcRl",
      "include_colab_link": true
    },
    "kernelspec": {
      "name": "python3",
      "display_name": "Python 3"
    },
    "language_info": {
      "name": "python"
    }
  },
  "cells": [
    {
      "cell_type": "markdown",
      "metadata": {
        "id": "view-in-github",
        "colab_type": "text"
      },
      "source": [
        "<a href=\"https://colab.research.google.com/github/ci5co150/CSCI191T/blob/main/feedForwardNetwork.ipynb\" target=\"_parent\"><img src=\"https://colab.research.google.com/assets/colab-badge.svg\" alt=\"Open In Colab\"/></a>"
      ]
    },
    {
      "cell_type": "code",
      "metadata": {
        "id": "ZO-Fa4yHWmVT"
      },
      "source": [
        "import math"
      ],
      "execution_count": 8,
      "outputs": []
    },
    {
      "cell_type": "code",
      "metadata": {
        "id": "cbAK-jy4Wyck"
      },
      "source": [
        "#Function to add list of tuples\n",
        "F = lambda m, x: m[0] + m[1]*x[0] + m[2]*x[1]\n",
        "#The sigmoid function\n",
        "G = lambda y: 1/(1+math.exp(-y))\n",
        "#Fucntion to choose between 1 or 0\n",
        "classify = lambda y: 1 if y>0.5 else 0"
      ],
      "execution_count": 9,
      "outputs": []
    },
    {
      "cell_type": "code",
      "metadata": {
        "id": "Ub35xG6JXVcb"
      },
      "source": [
        "#Data and weights\n",
        "data = [ (0,0), (0,1), (1,0), (1,1) ]\n",
        "w1 = (3.19304864, 9.93278091, -4.74659947)\n",
        "w2 = (-1.59451474, 9.97879746, 4.47953684)\n",
        "V1 = (0.32620883, -8.71647388, 8.39004239)"
      ],
      "execution_count": 10,
      "outputs": []
    },
    {
      "cell_type": "code",
      "metadata": {
        "colab": {
          "base_uri": "https://localhost:8080/"
        },
        "id": "9T7KNyUxaVg5",
        "outputId": "fc07425d-c77d-4180-feda-31f1d0ddd149"
      },
      "source": [
        "#Finds the Z nodes for the 2nd layer of the network\n",
        "Z1 = [G(F(w1,x)) for x in data]\n",
        "Z2 = [G(F(w2,x)) for x in data]\n",
        "print(\"Z1: \", Z1)\n",
        "print(\"Z2: \", Z2)\n",
        "#Find the root node of the network\n",
        "Y1 = [G(F(V1,(z1,z2))) for z1,z2 in zip(Z1,Z2)]\n",
        "#Apply classify to find a prediction of the network\n",
        "Y_Prediction = [classify(y1) for y1 in Y1]\n",
        "print(\"Y1: \",Y1)\n",
        "print(\"Y_Predicted: \", Y_Prediction)\n",
        "#Print Data with the network prediction\n",
        "print(\"Data with its predition:\" , list(zip(data,Y_Prediction)))"
      ],
      "execution_count": 25,
      "outputs": [
        {
          "output_type": "stream",
          "name": "stdout",
          "text": [
            "Z1:  [0.9605718456066229, 0.17457400953677152, 0.9999980069243171, 0.9997704660571543]\n",
            "Z2:  [0.16874965243320605, 0.9471010398304239, 0.9997716226203648, 0.9999974099209205]\n",
            "Y1:  [0.0013174040500717125, 0.998831373577061, 0.49946965437290985, 0.5004390838231586]\n",
            "Y_Predicted:  [0, 1, 0, 1]\n",
            "Data with its predition: [((0, 0), 0), ((0, 1), 1), ((1, 0), 0), ((1, 1), 1)]\n"
          ]
        }
      ]
    }
  ]
}